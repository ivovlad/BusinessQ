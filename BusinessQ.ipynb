{
 "cells": [
  {
   "cell_type": "markdown",
   "metadata": {},
   "source": [
    "# Guided Project: Answering Business Questions using SQL"
   ]
  },
  {
   "cell_type": "markdown",
   "metadata": {},
   "source": [
    "## Introduction"
   ]
  },
  {
   "cell_type": "code",
   "execution_count": 1,
   "metadata": {
    "collapsed": false
   },
   "outputs": [
    {
     "data": {
      "text/plain": [
       "'Connected: None@chinook.db'"
      ]
     },
     "execution_count": 1,
     "metadata": {},
     "output_type": "execute_result"
    }
   ],
   "source": [
    "%%capture\n",
    "%load_ext sql\n",
    "%sql sqlite:///chinook.db\n",
    "    "
   ]
  },
  {
   "cell_type": "markdown",
   "metadata": {},
   "source": [
    "## Overview of the Data"
   ]
  },
  {
   "cell_type": "code",
   "execution_count": 2,
   "metadata": {
    "collapsed": false
   },
   "outputs": [
    {
     "name": "stdout",
     "output_type": "stream",
     "text": [
      "Done.\n"
     ]
    },
    {
     "data": {
      "text/html": [
       "<table>\n",
       "    <tr>\n",
       "        <th>name</th>\n",
       "        <th>type</th>\n",
       "    </tr>\n",
       "    <tr>\n",
       "        <td>album</td>\n",
       "        <td>table</td>\n",
       "    </tr>\n",
       "    <tr>\n",
       "        <td>artist</td>\n",
       "        <td>table</td>\n",
       "    </tr>\n",
       "    <tr>\n",
       "        <td>customer</td>\n",
       "        <td>table</td>\n",
       "    </tr>\n",
       "    <tr>\n",
       "        <td>employee</td>\n",
       "        <td>table</td>\n",
       "    </tr>\n",
       "    <tr>\n",
       "        <td>genre</td>\n",
       "        <td>table</td>\n",
       "    </tr>\n",
       "    <tr>\n",
       "        <td>invoice</td>\n",
       "        <td>table</td>\n",
       "    </tr>\n",
       "    <tr>\n",
       "        <td>invoice_line</td>\n",
       "        <td>table</td>\n",
       "    </tr>\n",
       "    <tr>\n",
       "        <td>media_type</td>\n",
       "        <td>table</td>\n",
       "    </tr>\n",
       "    <tr>\n",
       "        <td>playlist</td>\n",
       "        <td>table</td>\n",
       "    </tr>\n",
       "    <tr>\n",
       "        <td>playlist_track</td>\n",
       "        <td>table</td>\n",
       "    </tr>\n",
       "    <tr>\n",
       "        <td>track</td>\n",
       "        <td>table</td>\n",
       "    </tr>\n",
       "</table>"
      ],
      "text/plain": [
       "[('album', 'table'),\n",
       " ('artist', 'table'),\n",
       " ('customer', 'table'),\n",
       " ('employee', 'table'),\n",
       " ('genre', 'table'),\n",
       " ('invoice', 'table'),\n",
       " ('invoice_line', 'table'),\n",
       " ('media_type', 'table'),\n",
       " ('playlist', 'table'),\n",
       " ('playlist_track', 'table'),\n",
       " ('track', 'table')]"
      ]
     },
     "execution_count": 2,
     "metadata": {},
     "output_type": "execute_result"
    }
   ],
   "source": [
    "%%sql\n",
    "SELECT\n",
    "    name,\n",
    "    type\n",
    "FROM sqlite_master\n",
    "WHERE type IN (\"table\",\"view\");"
   ]
  },
  {
   "cell_type": "code",
   "execution_count": 3,
   "metadata": {
    "collapsed": false
   },
   "outputs": [
    {
     "name": "stdout",
     "output_type": "stream",
     "text": [
      "Done.\n"
     ]
    },
    {
     "data": {
      "text/html": [
       "<table>\n",
       "    <tr>\n",
       "        <th>customer_id</th>\n",
       "        <th>first_name</th>\n",
       "        <th>last_name</th>\n",
       "        <th>company</th>\n",
       "        <th>address</th>\n",
       "        <th>city</th>\n",
       "        <th>state</th>\n",
       "        <th>country</th>\n",
       "        <th>postal_code</th>\n",
       "        <th>phone</th>\n",
       "        <th>fax</th>\n",
       "        <th>email</th>\n",
       "        <th>support_rep_id</th>\n",
       "    </tr>\n",
       "    <tr>\n",
       "        <td>1</td>\n",
       "        <td>Luís</td>\n",
       "        <td>Gonçalves</td>\n",
       "        <td>Embraer - Empresa Brasileira de Aeronáutica S.A.</td>\n",
       "        <td>Av. Brigadeiro Faria Lima, 2170</td>\n",
       "        <td>São José dos Campos</td>\n",
       "        <td>SP</td>\n",
       "        <td>Brazil</td>\n",
       "        <td>12227-000</td>\n",
       "        <td>+55 (12) 3923-5555</td>\n",
       "        <td>+55 (12) 3923-5566</td>\n",
       "        <td>luisg@embraer.com.br</td>\n",
       "        <td>3</td>\n",
       "    </tr>\n",
       "    <tr>\n",
       "        <td>2</td>\n",
       "        <td>Leonie</td>\n",
       "        <td>Köhler</td>\n",
       "        <td>None</td>\n",
       "        <td>Theodor-Heuss-Straße 34</td>\n",
       "        <td>Stuttgart</td>\n",
       "        <td>None</td>\n",
       "        <td>Germany</td>\n",
       "        <td>70174</td>\n",
       "        <td>+49 0711 2842222</td>\n",
       "        <td>None</td>\n",
       "        <td>leonekohler@surfeu.de</td>\n",
       "        <td>5</td>\n",
       "    </tr>\n",
       "</table>"
      ],
      "text/plain": [
       "[(1, 'Luís', 'Gonçalves', 'Embraer - Empresa Brasileira de Aeronáutica S.A.', 'Av. Brigadeiro Faria Lima, 2170', 'São José dos Campos', 'SP', 'Brazil', '12227-000', '+55 (12) 3923-5555', '+55 (12) 3923-5566', 'luisg@embraer.com.br', 3),\n",
       " (2, 'Leonie', 'Köhler', None, 'Theodor-Heuss-Straße 34', 'Stuttgart', None, 'Germany', '70174', '+49 0711 2842222', None, 'leonekohler@surfeu.de', 5)]"
      ]
     },
     "execution_count": 3,
     "metadata": {},
     "output_type": "execute_result"
    }
   ],
   "source": [
    "%%sql\n",
    "SELECT *\n",
    "FROM customer\n",
    "limit 2"
   ]
  },
  {
   "cell_type": "code",
   "execution_count": 4,
   "metadata": {
    "collapsed": false
   },
   "outputs": [
    {
     "name": "stdout",
     "output_type": "stream",
     "text": [
      "Done.\n"
     ]
    },
    {
     "data": {
      "text/html": [
       "<table>\n",
       "    <tr>\n",
       "        <th>employee_id</th>\n",
       "        <th>last_name</th>\n",
       "        <th>first_name</th>\n",
       "        <th>title</th>\n",
       "        <th>reports_to</th>\n",
       "        <th>birthdate</th>\n",
       "        <th>hire_date</th>\n",
       "        <th>address</th>\n",
       "        <th>city</th>\n",
       "        <th>state</th>\n",
       "        <th>country</th>\n",
       "        <th>postal_code</th>\n",
       "        <th>phone</th>\n",
       "        <th>fax</th>\n",
       "        <th>email</th>\n",
       "    </tr>\n",
       "    <tr>\n",
       "        <td>1</td>\n",
       "        <td>Adams</td>\n",
       "        <td>Andrew</td>\n",
       "        <td>General Manager</td>\n",
       "        <td>None</td>\n",
       "        <td>1962-02-18 00:00:00</td>\n",
       "        <td>2016-08-14 00:00:00</td>\n",
       "        <td>11120 Jasper Ave NW</td>\n",
       "        <td>Edmonton</td>\n",
       "        <td>AB</td>\n",
       "        <td>Canada</td>\n",
       "        <td>T5K 2N1</td>\n",
       "        <td>+1 (780) 428-9482</td>\n",
       "        <td>+1 (780) 428-3457</td>\n",
       "        <td>andrew@chinookcorp.com</td>\n",
       "    </tr>\n",
       "    <tr>\n",
       "        <td>2</td>\n",
       "        <td>Edwards</td>\n",
       "        <td>Nancy</td>\n",
       "        <td>Sales Manager</td>\n",
       "        <td>1</td>\n",
       "        <td>1958-12-08 00:00:00</td>\n",
       "        <td>2016-05-01 00:00:00</td>\n",
       "        <td>825 8 Ave SW</td>\n",
       "        <td>Calgary</td>\n",
       "        <td>AB</td>\n",
       "        <td>Canada</td>\n",
       "        <td>T2P 2T3</td>\n",
       "        <td>+1 (403) 262-3443</td>\n",
       "        <td>+1 (403) 262-3322</td>\n",
       "        <td>nancy@chinookcorp.com</td>\n",
       "    </tr>\n",
       "</table>"
      ],
      "text/plain": [
       "[(1, 'Adams', 'Andrew', 'General Manager', None, '1962-02-18 00:00:00', '2016-08-14 00:00:00', '11120 Jasper Ave NW', 'Edmonton', 'AB', 'Canada', 'T5K 2N1', '+1 (780) 428-9482', '+1 (780) 428-3457', 'andrew@chinookcorp.com'),\n",
       " (2, 'Edwards', 'Nancy', 'Sales Manager', 1, '1958-12-08 00:00:00', '2016-05-01 00:00:00', '825 8 Ave SW', 'Calgary', 'AB', 'Canada', 'T2P 2T3', '+1 (403) 262-3443', '+1 (403) 262-3322', 'nancy@chinookcorp.com')]"
      ]
     },
     "execution_count": 4,
     "metadata": {},
     "output_type": "execute_result"
    }
   ],
   "source": [
    "%%sql\n",
    "SELECT *\n",
    "FROM employee\n",
    "LIMIT 2"
   ]
  },
  {
   "cell_type": "markdown",
   "metadata": {},
   "source": [
    "## Selecting Albums to Purchase"
   ]
  },
  {
   "cell_type": "markdown",
   "metadata": {},
   "source": [
    "Next we find the top 3 genres by sales total from the USA"
   ]
  },
  {
   "cell_type": "code",
   "execution_count": 5,
   "metadata": {
    "collapsed": false
   },
   "outputs": [
    {
     "name": "stdout",
     "output_type": "stream",
     "text": [
      "Done.\n"
     ]
    },
    {
     "data": {
      "text/html": [
       "<table>\n",
       "    <tr>\n",
       "        <th>genre</th>\n",
       "        <th>sum(q1.total)</th>\n",
       "        <th>country</th>\n",
       "    </tr>\n",
       "    <tr>\n",
       "        <td>Alternative &amp; Punk</td>\n",
       "        <td>1234.5300000000018</td>\n",
       "        <td>USA</td>\n",
       "    </tr>\n",
       "    <tr>\n",
       "        <td>Blues</td>\n",
       "        <td>453.4199999999998</td>\n",
       "        <td>USA</td>\n",
       "    </tr>\n",
       "    <tr>\n",
       "        <td>Hip Hop/Rap</td>\n",
       "        <td>366.3</td>\n",
       "        <td>USA</td>\n",
       "    </tr>\n",
       "    <tr>\n",
       "        <td>Pop</td>\n",
       "        <td>201.95999999999992</td>\n",
       "        <td>USA</td>\n",
       "    </tr>\n",
       "</table>"
      ],
      "text/plain": [
       "[('Alternative & Punk', 1234.5300000000018, 'USA'),\n",
       " ('Blues', 453.4199999999998, 'USA'),\n",
       " ('Hip Hop/Rap', 366.3, 'USA'),\n",
       " ('Pop', 201.95999999999992, 'USA')]"
      ]
     },
     "execution_count": 5,
     "metadata": {},
     "output_type": "execute_result"
    }
   ],
   "source": [
    "%%sql\n",
    "WITH q1 AS\n",
    "    (\n",
    "    SELECT c.country, i.invoice_id, i.total\n",
    "    FROM customer c\n",
    "    INNER JOIN invoice i ON c.customer_id = i.customer_id\n",
    "    WHERE c.country = 'USA'\n",
    "    ),\n",
    "    q2 AS\n",
    "    (\n",
    "    SELECT il.invoice_id, g.name genre\n",
    "    FROM invoice_line il\n",
    "    INNER JOIN track t ON il.track_id = t.track_id\n",
    "    INNER JOIN genre g ON t.genre_id = g.genre_id\n",
    "    WHERE genre LIKE '%Hip%' OR genre LIKE '%Punk%' \n",
    "          OR genre LIKE '%Pop%' OR genre LIKE '%Blues%'\n",
    "    )\n",
    "SELECT q2.genre, sum(q1.total), q1.country\n",
    "FROM q1\n",
    "INNER JOIN q2 ON q1.invoice_id = q2.invoice_id\n",
    "\n",
    "GROUP BY 1\n",
    "ORDER BY 2 DESC\n",
    "\n",
    "\n"
   ]
  },
  {
   "cell_type": "markdown",
   "metadata": {},
   "source": [
    "Based on the results of cash income, if we have to choose 3 of the four genres above we'd have to leave 'Pop' out.\n",
    "\n",
    "Let's now see what would be the decision based on number of sold tracks."
   ]
  },
  {
   "cell_type": "code",
   "execution_count": 6,
   "metadata": {
    "collapsed": false
   },
   "outputs": [
    {
     "name": "stdout",
     "output_type": "stream",
     "text": [
      "Done.\n"
     ]
    },
    {
     "data": {
      "text/html": [
       "<table>\n",
       "    <tr>\n",
       "        <th>genre</th>\n",
       "        <th>count(q1.total)</th>\n",
       "    </tr>\n",
       "    <tr>\n",
       "        <td>Alternative &amp; Punk</td>\n",
       "        <td>130</td>\n",
       "    </tr>\n",
       "    <tr>\n",
       "        <td>Blues</td>\n",
       "        <td>36</td>\n",
       "    </tr>\n",
       "    <tr>\n",
       "        <td>Pop</td>\n",
       "        <td>22</td>\n",
       "    </tr>\n",
       "    <tr>\n",
       "        <td>Hip Hop/Rap</td>\n",
       "        <td>20</td>\n",
       "    </tr>\n",
       "</table>"
      ],
      "text/plain": [
       "[('Alternative & Punk', 130), ('Blues', 36), ('Pop', 22), ('Hip Hop/Rap', 20)]"
      ]
     },
     "execution_count": 6,
     "metadata": {},
     "output_type": "execute_result"
    }
   ],
   "source": [
    "%%sql\n",
    "WITH q1 AS\n",
    "    (\n",
    "    SELECT c.country, i.invoice_id, i.total\n",
    "    FROM customer c\n",
    "    INNER JOIN invoice i ON c.customer_id = i.customer_id\n",
    "    WHERE c.country = 'USA'\n",
    "    ),\n",
    "    q2 AS\n",
    "    (\n",
    "    SELECT il.invoice_id, g.name genre\n",
    "    FROM invoice_line il\n",
    "    INNER JOIN track t ON il.track_id = t.track_id\n",
    "    INNER JOIN genre g ON t.genre_id = g.genre_id\n",
    "    WHERE genre LIKE '%Hip%' OR genre LIKE '%Punk%' \n",
    "          OR genre LIKE '%Pop%' OR genre LIKE '%Blues%'\n",
    "    )\n",
    "SELECT q2.genre, count(q1.total)\n",
    "\n",
    "\n",
    "\n",
    "FROM q1\n",
    "    \n",
    "INNER JOIN q2 ON q1.invoice_id = q2.invoice_id\n",
    "\n",
    "GROUP BY 1\n",
    "ORDER BY 2 DESC\n",
    "\n"
   ]
  },
  {
   "cell_type": "markdown",
   "metadata": {},
   "source": [
    "The choice we made earlier that was based on income seems more adequate since the number of tracks sold is almost identical for 'Pop' and 'Hip-hop' genres"
   ]
  },
  {
   "cell_type": "markdown",
   "metadata": {},
   "source": [
    "## Analyzing Employee Sales Performance"
   ]
  },
  {
   "cell_type": "code",
   "execution_count": 7,
   "metadata": {
    "collapsed": false
   },
   "outputs": [
    {
     "name": "stdout",
     "output_type": "stream",
     "text": [
      "Done.\n"
     ]
    },
    {
     "data": {
      "text/html": [
       "<table>\n",
       "    <tr>\n",
       "        <th>empl_name</th>\n",
       "        <th>title</th>\n",
       "        <th>hire_date</th>\n",
       "        <th>num_clients</th>\n",
       "        <th>ROUND(sum(q1.revenue))</th>\n",
       "    </tr>\n",
       "    <tr>\n",
       "        <td>Jane Peacock</td>\n",
       "        <td>Sales Support Agent</td>\n",
       "        <td>2017-04-01 00:00:00</td>\n",
       "        <td>21</td>\n",
       "        <td>1732.0</td>\n",
       "    </tr>\n",
       "    <tr>\n",
       "        <td>Margaret Park</td>\n",
       "        <td>Sales Support Agent</td>\n",
       "        <td>2017-05-03 00:00:00</td>\n",
       "        <td>20</td>\n",
       "        <td>1584.0</td>\n",
       "    </tr>\n",
       "    <tr>\n",
       "        <td>Steve Johnson</td>\n",
       "        <td>Sales Support Agent</td>\n",
       "        <td>2017-10-17 00:00:00</td>\n",
       "        <td>18</td>\n",
       "        <td>1394.0</td>\n",
       "    </tr>\n",
       "    <tr>\n",
       "        <td>Andrew Adams</td>\n",
       "        <td>General Manager</td>\n",
       "        <td>2016-08-14 00:00:00</td>\n",
       "        <td>0</td>\n",
       "        <td>None</td>\n",
       "    </tr>\n",
       "    <tr>\n",
       "        <td>Laura Callahan</td>\n",
       "        <td>IT Staff</td>\n",
       "        <td>2017-03-04 00:00:00</td>\n",
       "        <td>0</td>\n",
       "        <td>None</td>\n",
       "    </tr>\n",
       "    <tr>\n",
       "        <td>Michael Mitchell</td>\n",
       "        <td>IT Manager</td>\n",
       "        <td>2016-10-17 00:00:00</td>\n",
       "        <td>0</td>\n",
       "        <td>None</td>\n",
       "    </tr>\n",
       "    <tr>\n",
       "        <td>Nancy Edwards</td>\n",
       "        <td>Sales Manager</td>\n",
       "        <td>2016-05-01 00:00:00</td>\n",
       "        <td>0</td>\n",
       "        <td>None</td>\n",
       "    </tr>\n",
       "    <tr>\n",
       "        <td>Robert King</td>\n",
       "        <td>IT Staff</td>\n",
       "        <td>2017-01-02 00:00:00</td>\n",
       "        <td>0</td>\n",
       "        <td>None</td>\n",
       "    </tr>\n",
       "</table>"
      ],
      "text/plain": [
       "[('Jane Peacock', 'Sales Support Agent', '2017-04-01 00:00:00', 21, 1732.0),\n",
       " ('Margaret Park', 'Sales Support Agent', '2017-05-03 00:00:00', 20, 1584.0),\n",
       " ('Steve Johnson', 'Sales Support Agent', '2017-10-17 00:00:00', 18, 1394.0),\n",
       " ('Andrew Adams', 'General Manager', '2016-08-14 00:00:00', 0, None),\n",
       " ('Laura Callahan', 'IT Staff', '2017-03-04 00:00:00', 0, None),\n",
       " ('Michael Mitchell', 'IT Manager', '2016-10-17 00:00:00', 0, None),\n",
       " ('Nancy Edwards', 'Sales Manager', '2016-05-01 00:00:00', 0, None),\n",
       " ('Robert King', 'IT Staff', '2017-01-02 00:00:00', 0, None)]"
      ]
     },
     "execution_count": 7,
     "metadata": {},
     "output_type": "execute_result"
    }
   ],
   "source": [
    "%%sql\n",
    "WITH q1 AS\n",
    "(\n",
    "SELECT \n",
    "    c.support_rep_id empl_id,\n",
    "    c.customer_id,\n",
    "    sum(i.total) revenue\n",
    "    \n",
    "FROM customer c\n",
    "INNER JOIN invoice i ON c.customer_id = i.customer_id\n",
    "GROUP BY 2\n",
    "ORDER BY 3 DESC\n",
    ")\n",
    "SELECT \n",
    "    e.first_name || ' ' || e.last_name empl_name,\n",
    "    e.title,\n",
    "    e.hire_date,\n",
    "    count(q1.customer_id) num_clients,\n",
    "    ROUND(sum(q1.revenue))\n",
    "FROM employee e\n",
    "LEFT JOIN q1 ON e.employee_id = q1.empl_id\n",
    "GROUP BY 1\n",
    "ORDER BY 5 DESC"
   ]
  },
  {
   "cell_type": "markdown",
   "metadata": {},
   "source": [
    "The sales rep hired first has the highest sales numbers, while the one hired last has the lowest."
   ]
  },
  {
   "cell_type": "markdown",
   "metadata": {},
   "source": [
    "## Analyzing Sales by Country"
   ]
  },
  {
   "cell_type": "code",
   "execution_count": 8,
   "metadata": {
    "collapsed": false,
    "scrolled": true
   },
   "outputs": [
    {
     "name": "stdout",
     "output_type": "stream",
     "text": [
      "Done.\n"
     ]
    },
    {
     "data": {
      "text/html": [
       "<table>\n",
       "    <tr>\n",
       "        <th>country</th>\n",
       "        <th>num_customers</th>\n",
       "        <th>sales</th>\n",
       "        <th>avg_cust_sales</th>\n",
       "        <th>avg_invoice</th>\n",
       "        <th>ind</th>\n",
       "    </tr>\n",
       "    <tr>\n",
       "        <td>USA</td>\n",
       "        <td>13</td>\n",
       "        <td>1040.0</td>\n",
       "        <td>80.0</td>\n",
       "        <td>8.0</td>\n",
       "        <td>0</td>\n",
       "    </tr>\n",
       "    <tr>\n",
       "        <td>Canada</td>\n",
       "        <td>8</td>\n",
       "        <td>536.0</td>\n",
       "        <td>67.0</td>\n",
       "        <td>7.0</td>\n",
       "        <td>0</td>\n",
       "    </tr>\n",
       "    <tr>\n",
       "        <td>Brazil</td>\n",
       "        <td>5</td>\n",
       "        <td>428.0</td>\n",
       "        <td>86.0</td>\n",
       "        <td>7.0</td>\n",
       "        <td>0</td>\n",
       "    </tr>\n",
       "    <tr>\n",
       "        <td>France</td>\n",
       "        <td>5</td>\n",
       "        <td>389.0</td>\n",
       "        <td>78.0</td>\n",
       "        <td>8.0</td>\n",
       "        <td>0</td>\n",
       "    </tr>\n",
       "    <tr>\n",
       "        <td>Germany</td>\n",
       "        <td>4</td>\n",
       "        <td>335.0</td>\n",
       "        <td>84.0</td>\n",
       "        <td>8.0</td>\n",
       "        <td>0</td>\n",
       "    </tr>\n",
       "    <tr>\n",
       "        <td>Czech Republic</td>\n",
       "        <td>2</td>\n",
       "        <td>273.0</td>\n",
       "        <td>137.0</td>\n",
       "        <td>9.0</td>\n",
       "        <td>0</td>\n",
       "    </tr>\n",
       "    <tr>\n",
       "        <td>United Kingdom</td>\n",
       "        <td>3</td>\n",
       "        <td>246.0</td>\n",
       "        <td>82.0</td>\n",
       "        <td>9.0</td>\n",
       "        <td>0</td>\n",
       "    </tr>\n",
       "    <tr>\n",
       "        <td>Portugal</td>\n",
       "        <td>2</td>\n",
       "        <td>185.0</td>\n",
       "        <td>93.0</td>\n",
       "        <td>6.0</td>\n",
       "        <td>0</td>\n",
       "    </tr>\n",
       "    <tr>\n",
       "        <td>India</td>\n",
       "        <td>2</td>\n",
       "        <td>183.0</td>\n",
       "        <td>92.0</td>\n",
       "        <td>9.0</td>\n",
       "        <td>0</td>\n",
       "    </tr>\n",
       "    <tr>\n",
       "        <td>Other</td>\n",
       "        <td>15</td>\n",
       "        <td>1095.0</td>\n",
       "        <td>73.0</td>\n",
       "        <td>7.0</td>\n",
       "        <td>1</td>\n",
       "    </tr>\n",
       "</table>"
      ],
      "text/plain": [
       "[('USA', 13, 1040.0, 80.0, 8.0, 0),\n",
       " ('Canada', 8, 536.0, 67.0, 7.0, 0),\n",
       " ('Brazil', 5, 428.0, 86.0, 7.0, 0),\n",
       " ('France', 5, 389.0, 78.0, 8.0, 0),\n",
       " ('Germany', 4, 335.0, 84.0, 8.0, 0),\n",
       " ('Czech Republic', 2, 273.0, 137.0, 9.0, 0),\n",
       " ('United Kingdom', 3, 246.0, 82.0, 9.0, 0),\n",
       " ('Portugal', 2, 185.0, 93.0, 6.0, 0),\n",
       " ('India', 2, 183.0, 92.0, 9.0, 0),\n",
       " ('Other', 15, 1095.0, 73.0, 7.0, 1)]"
      ]
     },
     "execution_count": 8,
     "metadata": {},
     "output_type": "execute_result"
    }
   ],
   "source": [
    "%%sql\n",
    "WITH q1 as /* counts clients per country*/\n",
    "(\n",
    "SELECT \n",
    "    c.country,\n",
    "    count(c.customer_id) num_cust\n",
    "from customer c\n",
    "GROUP BY 1\n",
    "ORDER BY 1 \n",
    "),\n",
    "\n",
    "q2 AS   /* sums sales per country */\n",
    "(\n",
    "SELECT\n",
    "    c.country,\n",
    "    sum(i.total) sales\n",
    "FROM customer c\n",
    "INNER JOIN invoice i ON c.customer_id= i.customer_id\n",
    "GROUP BY 1\n",
    "ORDER BY 1\n",
    "),\n",
    "\n",
    "q3 AS /* find sales per customer*/\n",
    "(\n",
    "SELECT \n",
    "    c.country,\n",
    "    c.customer_id,\n",
    "    sum(i.total) sales_cust\n",
    "FROM customer c\n",
    "INNER JOIN invoice i ON c.customer_id = i.customer_id\n",
    "GROUP BY 2\n",
    "ORDER BY 1\n",
    "),\n",
    "\n",
    "q4 AS  /*average value of sales per customer for each country*/\n",
    "(\n",
    "SELECT\n",
    "    q3.country,\n",
    "    AVG(q3.sales_cust) avg_cust_sales\n",
    "FROM q3\n",
    "GROUP BY 1\n",
    "ORDER BY 1\n",
    "),\n",
    "\n",
    "q5 AS /*average invoice value per country*/\n",
    "(\n",
    "SELECT \n",
    "    c.country,\n",
    "    avg(i.total) avg_invoice\n",
    "FROM customer c\n",
    "INNER JOIN invoice i ON c.customer_id = i.customer_id\n",
    "GROUP BY 1\n",
    "ORDER BY 1\n",
    "),\n",
    "\n",
    "q6 AS\n",
    "(\n",
    "SELECT \n",
    "    CASE\n",
    "        WHEN q1.num_cust = 1 THEN 'Other'\n",
    "        ELSE q1.country\n",
    "    END as country,\n",
    "    sum(q1.num_cust) num_customers,\n",
    "    round(sum(q2.sales)) sales,\n",
    "    round(avg(q4.avg_cust_sales)) avg_cust_sales,\n",
    "    round(avg(q5.avg_invoice)) avg_invoice\n",
    "FROM q1\n",
    "INNER JOIN q2 ON q1.country = q2.country\n",
    "INNER JOIN q4 ON q4.country = q1.country\n",
    "INNER JOIN q5 ON q5.country = q1.country\n",
    "GROUP BY 1\n",
    "ORDER BY 3 DESC\n",
    ")\n",
    "\n",
    "/* ====================================*/\n",
    "\n",
    "SELECT *\n",
    "FROM \n",
    "    (SELECT q6.*, CASE\n",
    "                   WHEN q6.country = 'Other' THEN 1\n",
    "                   ELSE 0\n",
    "                 END ind\n",
    "       FROM q6\n",
    "    )\n",
    "ORDER BY ind\n",
    "\n"
   ]
  },
  {
   "cell_type": "markdown",
   "metadata": {
    "collapsed": false
   },
   "source": [
    "## Album vs Individual Tracks"
   ]
  },
  {
   "cell_type": "code",
   "execution_count": 9,
   "metadata": {
    "collapsed": false
   },
   "outputs": [
    {
     "name": "stdout",
     "output_type": "stream",
     "text": [
      "Done.\n"
     ]
    },
    {
     "data": {
      "text/html": [
       "<table>\n",
       "    <tr>\n",
       "        <th>whole_album</th>\n",
       "        <th>number_invoices</th>\n",
       "        <th>perc_inv</th>\n",
       "    </tr>\n",
       "    <tr>\n",
       "        <td>No</td>\n",
       "        <td>500</td>\n",
       "        <td>0.8143322475570033</td>\n",
       "    </tr>\n",
       "    <tr>\n",
       "        <td>Yes</td>\n",
       "        <td>114</td>\n",
       "        <td>0.18566775244299674</td>\n",
       "    </tr>\n",
       "</table>"
      ],
      "text/plain": [
       "[('No', 500, 0.8143322475570033), ('Yes', 114, 0.18566775244299674)]"
      ]
     },
     "execution_count": 9,
     "metadata": {},
     "output_type": "execute_result"
    }
   ],
   "source": [
    "%%sql\n",
    "WITH \n",
    "q2 AS\n",
    "(\n",
    "SELECT t.album_id, il.track_id, il.invoice_id\n",
    "FROM track t\n",
    "INNER JOIN invoice_line il ON il.track_id = t.track_id\n",
    "GROUP BY 3\n",
    ")\n",
    "\n",
    "SELECT \n",
    "    whole_album,\n",
    "    count(distinct invoice_id) number_invoices, \n",
    "    cast(count(distinct invoice_id) as Float)/\n",
    "                   (SELECT count(distinct invoice_id) FROM invoice) perc_inv\n",
    "FROM \n",
    "    (\n",
    "    SELECT q22.*, \n",
    "           CASE\n",
    "            WHEN (SELECT t2.track_id /* whole album */\n",
    "                  FROM track t2\n",
    "                  WHERE t2.album_id = q22.album_id\n",
    "                  \n",
    "                  EXCEPT\n",
    "                  \n",
    "                  SELECT il2.track_id /* only purchased tracks */\n",
    "                  FROM invoice_line il2\n",
    "                  WHERE il2.invoice_id = q22.invoice_id\n",
    "                 ) IS NULL\n",
    "                    \n",
    "                  AND\n",
    "        \n",
    "                  (\n",
    "                  SELECT il2.track_id\n",
    "                  FROM invoice_line il2\n",
    "                  WHERE il2.invoice_id = q22.invoice_id\n",
    "                  EXCEPT\n",
    "                  SELECT t2.track_id\n",
    "                  FROM track t2\n",
    "                  WHERE t2.album_id = q22.album_id\n",
    "                  \n",
    "                  ) IS NULL\n",
    "                  THEN 'Yes'\n",
    "                  ELSE 'No'\n",
    "              END as whole_album\n",
    "    FROM q2 as q22\n",
    "    )\n",
    "GROUP BY whole_album\n",
    "    "
   ]
  },
  {
   "cell_type": "markdown",
   "metadata": {
    "collapsed": true
   },
   "source": [
    " ## Next Steps"
   ]
  },
  {
   "cell_type": "markdown",
   "metadata": {},
   "source": [
    "1. Which artist is used in the most playlists?\n",
    "2. How many tracks have been purchased vs not purchased?\n",
    "3. Is the range of tracks in the store reflective of their sales popularity?\n",
    "4. Do protected vs non-protected media types have an effect on popularity?"
   ]
  },
  {
   "cell_type": "markdown",
   "metadata": {},
   "source": [
    "#### *Which artist is used in the most playlists?*"
   ]
  },
  {
   "cell_type": "code",
   "execution_count": 10,
   "metadata": {
    "collapsed": false
   },
   "outputs": [
    {
     "name": "stdout",
     "output_type": "stream",
     "text": [
      "Done.\n"
     ]
    },
    {
     "data": {
      "text/html": [
       "<table>\n",
       "    <tr>\n",
       "        <th>artist</th>\n",
       "        <th>in_playlists</th>\n",
       "    </tr>\n",
       "    <tr>\n",
       "        <td>Iron Maiden</td>\n",
       "        <td>516</td>\n",
       "    </tr>\n",
       "    <tr>\n",
       "        <td>U2</td>\n",
       "        <td>333</td>\n",
       "    </tr>\n",
       "    <tr>\n",
       "        <td>Metallica</td>\n",
       "        <td>296</td>\n",
       "    </tr>\n",
       "</table>"
      ],
      "text/plain": [
       "[('Iron Maiden', 516), ('U2', 333), ('Metallica', 296)]"
      ]
     },
     "execution_count": 10,
     "metadata": {},
     "output_type": "execute_result"
    }
   ],
   "source": [
    "%%sql\n",
    "SELECT a.name artist, count(pl.name) in_playlists\n",
    "FROM artist a\n",
    "INNER JOIN album al ON a.artist_id = al.artist_id\n",
    "INNER JOIN track t ON al.album_id = t.album_id\n",
    "INNER JOIN playlist_track ptr ON t.track_id = ptr.track_id\n",
    "INNER JOIN playlist pl ON ptr.playlist_id = pl.playlist_id\n",
    "GROUP BY 1\n",
    "ORDER BY 2 DESC\n",
    "LIMIT 3"
   ]
  },
  {
   "cell_type": "markdown",
   "metadata": {},
   "source": [
    "#### *How many tracks have been purchased vs not purchased?*"
   ]
  },
  {
   "cell_type": "code",
   "execution_count": 11,
   "metadata": {
    "collapsed": false
   },
   "outputs": [
    {
     "name": "stdout",
     "output_type": "stream",
     "text": [
      "Done.\n"
     ]
    },
    {
     "data": {
      "text/html": [
       "<table>\n",
       "    <tr>\n",
       "        <th>count(tracks)</th>\n",
       "        <th>purchased</th>\n",
       "    </tr>\n",
       "    <tr>\n",
       "        <td>1697</td>\n",
       "        <td>No</td>\n",
       "    </tr>\n",
       "    <tr>\n",
       "        <td>1806</td>\n",
       "        <td>Yes</td>\n",
       "    </tr>\n",
       "</table>"
      ],
      "text/plain": [
       "[(1697, 'No'), (1806, 'Yes')]"
      ]
     },
     "execution_count": 11,
     "metadata": {},
     "output_type": "execute_result"
    }
   ],
   "source": [
    "%%sql\n",
    "WITH q1 AS\n",
    "(\n",
    "SELECT *\n",
    "FROM invoice_line\n",
    "GROUP BY track_id\n",
    ")\n",
    "\n",
    "SELECT count(tracks), \n",
    "    CASE \n",
    "        WHEN purch IS NULL THEN 'No'\n",
    "        ELSE 'Yes'\n",
    "    END AS purchased\n",
    "FROM \n",
    "    (\n",
    "    SELECT t.track_id tracks, il.track_id purch\n",
    "    FROM track t\n",
    "    LEFT JOIN q1 il ON t.track_id = il.track_id\n",
    "    )\n",
    "GROUP BY 2"
   ]
  },
  {
   "cell_type": "code",
   "execution_count": 12,
   "metadata": {
    "collapsed": false,
    "scrolled": false
   },
   "outputs": [
    {
     "name": "stdout",
     "output_type": "stream",
     "text": [
      "Done.\n"
     ]
    },
    {
     "data": {
      "text/html": [
       "<table>\n",
       "    <tr>\n",
       "        <th>count(distinct track_id)</th>\n",
       "    </tr>\n",
       "    <tr>\n",
       "        <td>3503</td>\n",
       "    </tr>\n",
       "</table>"
      ],
      "text/plain": [
       "[(3503,)]"
      ]
     },
     "execution_count": 12,
     "metadata": {},
     "output_type": "execute_result"
    }
   ],
   "source": [
    "%%sql\n",
    "SELECT count(distinct track_id)\n",
    "FROM track"
   ]
  },
  {
   "cell_type": "markdown",
   "metadata": {},
   "source": [
    "#### *Is the range of tracks in the store reflective of their sales popularity?*"
   ]
  },
  {
   "cell_type": "code",
   "execution_count": 13,
   "metadata": {
    "collapsed": false
   },
   "outputs": [
    {
     "name": "stdout",
     "output_type": "stream",
     "text": [
      "Done.\n"
     ]
    },
    {
     "data": {
      "text/html": [
       "<table>\n",
       "    <tr>\n",
       "        <th>sales_buckets</th>\n",
       "        <th>number_sales</th>\n",
       "        <th>perc</th>\n",
       "    </tr>\n",
       "    <tr>\n",
       "        <td>0. No Sales</td>\n",
       "        <td>1697</td>\n",
       "        <td>48.44</td>\n",
       "    </tr>\n",
       "    <tr>\n",
       "        <td>1. 1 to 5</td>\n",
       "        <td>1626</td>\n",
       "        <td>46.42</td>\n",
       "    </tr>\n",
       "    <tr>\n",
       "        <td>2. 6 to 10</td>\n",
       "        <td>165</td>\n",
       "        <td>4.71</td>\n",
       "    </tr>\n",
       "    <tr>\n",
       "        <td>3. 11 to 15</td>\n",
       "        <td>14</td>\n",
       "        <td>0.4</td>\n",
       "    </tr>\n",
       "    <tr>\n",
       "        <td>4. More than 15 sales</td>\n",
       "        <td>1</td>\n",
       "        <td>0.03</td>\n",
       "    </tr>\n",
       "</table>"
      ],
      "text/plain": [
       "[('0. No Sales', 1697, 48.44),\n",
       " ('1. 1 to 5', 1626, 46.42),\n",
       " ('2. 6 to 10', 165, 4.71),\n",
       " ('3. 11 to 15', 14, 0.4),\n",
       " ('4. More than 15 sales', 1, 0.03)]"
      ]
     },
     "execution_count": 13,
     "metadata": {},
     "output_type": "execute_result"
    }
   ],
   "source": [
    "%%sql\n",
    "WITH q1 AS\n",
    "(\n",
    "SELECT t.track_id, count(il.invoice_id) sales\n",
    "FROM track t\n",
    "LEFT JOIN invoice_line il ON t.track_id = il.track_id\n",
    "GROUP BY 1\n",
    "ORDER BY 2 DESC\n",
    ")\n",
    "\n",
    "SELECT CASE\n",
    "        WHEN sales = 0 THEN '0. No Sales'\n",
    "        WHEN sales >0 and sales<6 THEN '1. 1 to 5'\n",
    "        WHEN sales >5 and sales<11 THEN '2. 6 to 10'\n",
    "        WHEN sales >10 and sales<16 THEN '3. 11 to 15'\n",
    "        ELSE '4. More than 15 sales'\n",
    "        END AS sales_buckets,\n",
    "        COUNT(sales) number_sales,\n",
    "        round(100*CAST(COUNT(sales) as Float)/\n",
    "                    (SELECT count(*) FROM q1),2) perc\n",
    "FROM q1\n",
    "GROUP BY 1\n",
    "ORDER BY 1"
   ]
  },
  {
   "cell_type": "markdown",
   "metadata": {},
   "source": [
    "Most of the songs in the store have no sales at all. Only a handful (less than half a percent) have more than 10 sales."
   ]
  },
  {
   "cell_type": "markdown",
   "metadata": {},
   "source": [
    "#### *Do protected vs non-protected media types have an effect on popularity?*"
   ]
  },
  {
   "cell_type": "code",
   "execution_count": 14,
   "metadata": {
    "collapsed": false,
    "scrolled": true
   },
   "outputs": [
    {
     "name": "stdout",
     "output_type": "stream",
     "text": [
      "Done.\n"
     ]
    },
    {
     "data": {
      "text/html": [
       "<table>\n",
       "    <tr>\n",
       "        <th>name</th>\n",
       "        <th>count(il.invoice_id)</th>\n",
       "    </tr>\n",
       "    <tr>\n",
       "        <td>AAC audio file</td>\n",
       "        <td>21</td>\n",
       "    </tr>\n",
       "    <tr>\n",
       "        <td>MPEG audio file</td>\n",
       "        <td>4259</td>\n",
       "    </tr>\n",
       "    <tr>\n",
       "        <td>Protected AAC audio file</td>\n",
       "        <td>439</td>\n",
       "    </tr>\n",
       "    <tr>\n",
       "        <td>Protected MPEG-4 video file</td>\n",
       "        <td>3</td>\n",
       "    </tr>\n",
       "    <tr>\n",
       "        <td>Purchased AAC audio file</td>\n",
       "        <td>35</td>\n",
       "    </tr>\n",
       "</table>"
      ],
      "text/plain": [
       "[('AAC audio file', 21),\n",
       " ('MPEG audio file', 4259),\n",
       " ('Protected AAC audio file', 439),\n",
       " ('Protected MPEG-4 video file', 3),\n",
       " ('Purchased AAC audio file', 35)]"
      ]
     },
     "execution_count": 14,
     "metadata": {},
     "output_type": "execute_result"
    }
   ],
   "source": [
    "%%sql\n",
    "SELECT mt.name, count(il.invoice_id)\n",
    "FROM track t\n",
    "INNER JOIN media_type mt ON t.media_type_id = mt.media_type_id\n",
    "LEFT JOIN invoice_line il ON t.track_id = il.track_id\n",
    "\n",
    "GROUP BY 1"
   ]
  },
  {
   "cell_type": "code",
   "execution_count": 23,
   "metadata": {
    "collapsed": false
   },
   "outputs": [
    {
     "name": "stdout",
     "output_type": "stream",
     "text": [
      "Done.\n"
     ]
    },
    {
     "data": {
      "text/html": [
       "<table>\n",
       "    <tr>\n",
       "        <th>protected</th>\n",
       "        <th>num_tracks</th>\n",
       "        <th>perc</th>\n",
       "    </tr>\n",
       "    <tr>\n",
       "        <td>No</td>\n",
       "        <td>4315</td>\n",
       "        <td>0.9070842968257306</td>\n",
       "    </tr>\n",
       "    <tr>\n",
       "        <td>Yes</td>\n",
       "        <td>442</td>\n",
       "        <td>0.0929157031742695</td>\n",
       "    </tr>\n",
       "</table>"
      ],
      "text/plain": [
       "[('No', 4315, 0.9070842968257306), ('Yes', 442, 0.0929157031742695)]"
      ]
     },
     "execution_count": 23,
     "metadata": {},
     "output_type": "execute_result"
    }
   ],
   "source": [
    "%%sql\n",
    "with q1 AS\n",
    "(\n",
    "SELECT track_id, count(track_id) num_tracks\n",
    "FROM invoice_line\n",
    "GROUP BY 1\n",
    "ORDER BY 2 DESC\n",
    ")\n",
    "\n",
    "SELECT  CASE WHEN mt.name LIKE 'Protected%' THEN 'Yes'\n",
    "                      ELSE 'No' END protected,\n",
    "            sum(q1.num_tracks) num_tracks,\n",
    "            CAST(sum(q1.num_tracks) AS Float)/(SELECT sum(q1.num_tracks)\n",
    "            FROM q1) AS perc\n",
    "FROM media_type mt\n",
    "INNER JOIN track t ON mt.media_type_id = t.media_type_id\n",
    "INNER JOIN q1 ON t.track_id = q1.track_id\n",
    "GROUP BY 1"
   ]
  },
  {
   "cell_type": "markdown",
   "metadata": {},
   "source": [
    "Less than 10% of purchased tracks are 'Protected'"
   ]
  }
 ],
 "metadata": {
  "kernelspec": {
   "display_name": "Python 3",
   "language": "python",
   "name": "python3"
  },
  "language_info": {
   "codemirror_mode": {
    "name": "ipython",
    "version": 3
   },
   "file_extension": ".py",
   "mimetype": "text/x-python",
   "name": "python",
   "nbconvert_exporter": "python",
   "pygments_lexer": "ipython3",
   "version": "3.4.3"
  }
 },
 "nbformat": 4,
 "nbformat_minor": 2
}
